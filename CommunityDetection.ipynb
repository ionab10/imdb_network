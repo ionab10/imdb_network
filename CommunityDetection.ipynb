{
 "cells": [
  {
   "cell_type": "code",
   "execution_count": 1,
   "metadata": {},
   "outputs": [],
   "source": [
    "import pandas as pd\n",
    "import networkx as nx\n",
    "import matplotlib.pyplot as plt\n",
    "from itertools import combinations\n",
    "import community\n",
    "import seaborn as sns\n",
    "import random \n",
    "import numpy as np\n",
    "import cython\n",
    "from fa2 import ForceAtlas2\n",
    "\n",
    "%matplotlib inline"
   ]
  },
  {
   "cell_type": "code",
   "execution_count": 2,
   "metadata": {},
   "outputs": [],
   "source": [
    "name_basics = pd.read_csv(\"name.basics.tsv.gz\", sep = \"\\t\", na_values=[\"\\\\N\"], index_col=\"nconst\")"
   ]
  },
  {
   "cell_type": "code",
   "execution_count": 3,
   "metadata": {},
   "outputs": [
    {
     "name": "stderr",
     "output_type": "stream",
     "text": [
      "S:\\Anaconda\\lib\\site-packages\\IPython\\core\\interactiveshell.py:2785: DtypeWarning: Columns (7) have mixed types. Specify dtype option on import or set low_memory=False.\n",
      "  interactivity=interactivity, compiler=compiler, result=result)\n"
     ]
    }
   ],
   "source": [
    "title_basics = pd.read_csv(\"title.basics.tsv.gz\", sep = \"\\t\", na_values=[\"\\\\N\"], index_col=\"tconst\")"
   ]
  },
  {
   "cell_type": "code",
   "execution_count": 4,
   "metadata": {},
   "outputs": [
    {
     "data": {
      "text/html": [
       "<div>\n",
       "<style scoped>\n",
       "    .dataframe tbody tr th:only-of-type {\n",
       "        vertical-align: middle;\n",
       "    }\n",
       "\n",
       "    .dataframe tbody tr th {\n",
       "        vertical-align: top;\n",
       "    }\n",
       "\n",
       "    .dataframe thead th {\n",
       "        text-align: right;\n",
       "    }\n",
       "</style>\n",
       "<table border=\"1\" class=\"dataframe\">\n",
       "  <thead>\n",
       "    <tr style=\"text-align: right;\">\n",
       "      <th></th>\n",
       "      <th>primaryName</th>\n",
       "      <th>birthYear</th>\n",
       "      <th>deathYear</th>\n",
       "      <th>primaryProfession</th>\n",
       "      <th>knownForTitles</th>\n",
       "    </tr>\n",
       "    <tr>\n",
       "      <th>nconst</th>\n",
       "      <th></th>\n",
       "      <th></th>\n",
       "      <th></th>\n",
       "      <th></th>\n",
       "      <th></th>\n",
       "    </tr>\n",
       "  </thead>\n",
       "  <tbody>\n",
       "    <tr>\n",
       "      <th>nm0000001</th>\n",
       "      <td>Fred Astaire</td>\n",
       "      <td>1899.0</td>\n",
       "      <td>1987.0</td>\n",
       "      <td>soundtrack,actor,miscellaneous</td>\n",
       "      <td>tt0072308,tt0050419,tt0043044,tt0053137</td>\n",
       "    </tr>\n",
       "    <tr>\n",
       "      <th>nm0000002</th>\n",
       "      <td>Lauren Bacall</td>\n",
       "      <td>1924.0</td>\n",
       "      <td>2014.0</td>\n",
       "      <td>actress,soundtrack</td>\n",
       "      <td>tt0037382,tt0117057,tt0071877,tt0038355</td>\n",
       "    </tr>\n",
       "    <tr>\n",
       "      <th>nm0000003</th>\n",
       "      <td>Brigitte Bardot</td>\n",
       "      <td>1934.0</td>\n",
       "      <td>NaN</td>\n",
       "      <td>actress,soundtrack,producer</td>\n",
       "      <td>tt0059956,tt0057345,tt0054452,tt0049189</td>\n",
       "    </tr>\n",
       "    <tr>\n",
       "      <th>nm0000004</th>\n",
       "      <td>John Belushi</td>\n",
       "      <td>1949.0</td>\n",
       "      <td>1982.0</td>\n",
       "      <td>actor,writer,soundtrack</td>\n",
       "      <td>tt0080455,tt0078723,tt0077975,tt0072562</td>\n",
       "    </tr>\n",
       "    <tr>\n",
       "      <th>nm0000005</th>\n",
       "      <td>Ingmar Bergman</td>\n",
       "      <td>1918.0</td>\n",
       "      <td>2007.0</td>\n",
       "      <td>writer,director,actor</td>\n",
       "      <td>tt0050976,tt0083922,tt0060827,tt0050986</td>\n",
       "    </tr>\n",
       "  </tbody>\n",
       "</table>\n",
       "</div>"
      ],
      "text/plain": [
       "               primaryName  birthYear  deathYear  \\\n",
       "nconst                                             \n",
       "nm0000001     Fred Astaire     1899.0     1987.0   \n",
       "nm0000002    Lauren Bacall     1924.0     2014.0   \n",
       "nm0000003  Brigitte Bardot     1934.0        NaN   \n",
       "nm0000004     John Belushi     1949.0     1982.0   \n",
       "nm0000005   Ingmar Bergman     1918.0     2007.0   \n",
       "\n",
       "                        primaryProfession  \\\n",
       "nconst                                      \n",
       "nm0000001  soundtrack,actor,miscellaneous   \n",
       "nm0000002              actress,soundtrack   \n",
       "nm0000003     actress,soundtrack,producer   \n",
       "nm0000004         actor,writer,soundtrack   \n",
       "nm0000005           writer,director,actor   \n",
       "\n",
       "                                    knownForTitles  \n",
       "nconst                                              \n",
       "nm0000001  tt0072308,tt0050419,tt0043044,tt0053137  \n",
       "nm0000002  tt0037382,tt0117057,tt0071877,tt0038355  \n",
       "nm0000003  tt0059956,tt0057345,tt0054452,tt0049189  \n",
       "nm0000004  tt0080455,tt0078723,tt0077975,tt0072562  \n",
       "nm0000005  tt0050976,tt0083922,tt0060827,tt0050986  "
      ]
     },
     "execution_count": 4,
     "metadata": {},
     "output_type": "execute_result"
    }
   ],
   "source": [
    "name_basics.head()"
   ]
  },
  {
   "cell_type": "code",
   "execution_count": 5,
   "metadata": {},
   "outputs": [
    {
     "data": {
      "text/html": [
       "<div>\n",
       "<style scoped>\n",
       "    .dataframe tbody tr th:only-of-type {\n",
       "        vertical-align: middle;\n",
       "    }\n",
       "\n",
       "    .dataframe tbody tr th {\n",
       "        vertical-align: top;\n",
       "    }\n",
       "\n",
       "    .dataframe thead th {\n",
       "        text-align: right;\n",
       "    }\n",
       "</style>\n",
       "<table border=\"1\" class=\"dataframe\">\n",
       "  <thead>\n",
       "    <tr style=\"text-align: right;\">\n",
       "      <th></th>\n",
       "      <th>titleType</th>\n",
       "      <th>primaryTitle</th>\n",
       "      <th>originalTitle</th>\n",
       "      <th>isAdult</th>\n",
       "      <th>startYear</th>\n",
       "      <th>endYear</th>\n",
       "      <th>runtimeMinutes</th>\n",
       "      <th>genres</th>\n",
       "    </tr>\n",
       "    <tr>\n",
       "      <th>tconst</th>\n",
       "      <th></th>\n",
       "      <th></th>\n",
       "      <th></th>\n",
       "      <th></th>\n",
       "      <th></th>\n",
       "      <th></th>\n",
       "      <th></th>\n",
       "      <th></th>\n",
       "    </tr>\n",
       "  </thead>\n",
       "  <tbody>\n",
       "    <tr>\n",
       "      <th>tt0000001</th>\n",
       "      <td>short</td>\n",
       "      <td>Carmencita</td>\n",
       "      <td>Carmencita</td>\n",
       "      <td>0</td>\n",
       "      <td>1894.0</td>\n",
       "      <td>NaN</td>\n",
       "      <td>1</td>\n",
       "      <td>Documentary,Short</td>\n",
       "    </tr>\n",
       "    <tr>\n",
       "      <th>tt0000002</th>\n",
       "      <td>short</td>\n",
       "      <td>Le clown et ses chiens</td>\n",
       "      <td>Le clown et ses chiens</td>\n",
       "      <td>0</td>\n",
       "      <td>1892.0</td>\n",
       "      <td>NaN</td>\n",
       "      <td>5</td>\n",
       "      <td>Animation,Short</td>\n",
       "    </tr>\n",
       "    <tr>\n",
       "      <th>tt0000003</th>\n",
       "      <td>short</td>\n",
       "      <td>Pauvre Pierrot</td>\n",
       "      <td>Pauvre Pierrot</td>\n",
       "      <td>0</td>\n",
       "      <td>1892.0</td>\n",
       "      <td>NaN</td>\n",
       "      <td>4</td>\n",
       "      <td>Animation,Comedy,Romance</td>\n",
       "    </tr>\n",
       "    <tr>\n",
       "      <th>tt0000004</th>\n",
       "      <td>short</td>\n",
       "      <td>Un bon bock</td>\n",
       "      <td>Un bon bock</td>\n",
       "      <td>0</td>\n",
       "      <td>1892.0</td>\n",
       "      <td>NaN</td>\n",
       "      <td>NaN</td>\n",
       "      <td>Animation,Short</td>\n",
       "    </tr>\n",
       "    <tr>\n",
       "      <th>tt0000005</th>\n",
       "      <td>short</td>\n",
       "      <td>Blacksmith Scene</td>\n",
       "      <td>Blacksmith Scene</td>\n",
       "      <td>0</td>\n",
       "      <td>1893.0</td>\n",
       "      <td>NaN</td>\n",
       "      <td>1</td>\n",
       "      <td>Short</td>\n",
       "    </tr>\n",
       "  </tbody>\n",
       "</table>\n",
       "</div>"
      ],
      "text/plain": [
       "          titleType            primaryTitle           originalTitle  isAdult  \\\n",
       "tconst                                                                         \n",
       "tt0000001     short              Carmencita              Carmencita        0   \n",
       "tt0000002     short  Le clown et ses chiens  Le clown et ses chiens        0   \n",
       "tt0000003     short          Pauvre Pierrot          Pauvre Pierrot        0   \n",
       "tt0000004     short             Un bon bock             Un bon bock        0   \n",
       "tt0000005     short        Blacksmith Scene        Blacksmith Scene        0   \n",
       "\n",
       "           startYear  endYear runtimeMinutes                    genres  \n",
       "tconst                                                                  \n",
       "tt0000001     1894.0      NaN              1         Documentary,Short  \n",
       "tt0000002     1892.0      NaN              5           Animation,Short  \n",
       "tt0000003     1892.0      NaN              4  Animation,Comedy,Romance  \n",
       "tt0000004     1892.0      NaN            NaN           Animation,Short  \n",
       "tt0000005     1893.0      NaN              1                     Short  "
      ]
     },
     "execution_count": 5,
     "metadata": {},
     "output_type": "execute_result"
    }
   ],
   "source": [
    "title_basics.head()"
   ]
  },
  {
   "cell_type": "code",
   "execution_count": 6,
   "metadata": {},
   "outputs": [],
   "source": [
    "G_titles = nx.Graph()\n",
    "\n",
    "for i,row in title_basics.iterrows():\n",
    "    try:\n",
    "        G_titles.add_node(i, title=row['primaryTitle'], genres=row['genres'].split(','))\n",
    "    except:\n",
    "        G_titles.add_node(i, title=row['primaryTitle'], genres=[])\n",
    "\n",
    "for i,row in name_basics.iterrows():\n",
    "    if type(row['knownForTitles'])==str:\n",
    "        pairs = combinations(row['knownForTitles'].split(','), 2)\n",
    "        for u,v in pairs:\n",
    "            if G_titles.has_edge(u,v):\n",
    "                G_titles[u][v]['weight'] = G_titles[u][v]['weight'] + 1\n",
    "            else:\n",
    "                G_titles.add_edge(u,v, weight=1)"
   ]
  },
  {
   "cell_type": "code",
   "execution_count": 7,
   "metadata": {},
   "outputs": [],
   "source": [
    "partition = community.best_partition(G_titles)"
   ]
  },
  {
   "cell_type": "code",
   "execution_count": 8,
   "metadata": {},
   "outputs": [
    {
     "name": "stderr",
     "output_type": "stream",
     "text": [
      "100%|██████████| 10/10 [4:11:37<00:00, 1509.71s/it] \n"
     ]
    },
    {
     "name": "stdout",
     "output_type": "stream",
     "text": [
      "BarnesHut Approximation  took  394.45  seconds\n",
      "Repulsion forces  took  14658.56  seconds\n",
      "Gravitational forces  took  4.12  seconds\n",
      "Attraction forces  took  10.54  seconds\n",
      "AdjustSpeedAndApplyForces step  took  18.07  seconds\n"
     ]
    }
   ],
   "source": [
    "#positioning\n",
    "init_pos = { i : (random.random(), random.random()) for i in G_titles.nodes()}\n",
    "forceatlas2 = ForceAtlas2(\n",
    "                          # Behavior alternatives\n",
    "                          outboundAttractionDistribution=False,  # Dissuade hubs\n",
    "                          linLogMode=False,  # NOT IMPLEMENTED\n",
    "                          adjustSizes=False,  # Prevent overlap (NOT IMPLEMENTED)\n",
    "                          edgeWeightInfluence=1.0,\n",
    "\n",
    "                          # Performance\n",
    "                          jitterTolerance=1.0,  # Tolerance\n",
    "                          barnesHutOptimize=True,\n",
    "                          barnesHutTheta=1.2,\n",
    "                          multiThreaded=False,  # NOT IMPLEMENTED\n",
    "\n",
    "                          # Tuning\n",
    "                          scalingRatio=2.0,\n",
    "                          strongGravityMode=False,\n",
    "                          gravity=1.0,\n",
    "\n",
    "                          # Log\n",
    "                          verbose=True)\n",
    "pos = forceatlas2.forceatlas2_networkx_layout(G_titles, init_pos, iterations=10) "
   ]
  },
  {
   "cell_type": "code",
   "execution_count": 9,
   "metadata": {},
   "outputs": [],
   "source": [
    "with open('layout', 'w') as f:\n",
    "    f.write(str(pos))"
   ]
  },
  {
   "cell_type": "code",
   "execution_count": null,
   "metadata": {},
   "outputs": [],
   "source": [
    "from ast import literal_eval\n",
    "with open('layout', 'w') as f:\n",
    "    pos=literal_eval(f.read())"
   ]
  },
  {
   "cell_type": "code",
   "execution_count": null,
   "metadata": {},
   "outputs": [],
   "source": [
    "#drawing\n",
    "plt.figure(figsize=(20,20))\n",
    "\n",
    "size = len(set(partition.values()))\n",
    "cmap = sns.color_palette(n_colors=size)\n",
    "for i,com in enumerate(set(partition.values())) :\n",
    "    list_nodes = [nodes for nodes in partition.keys()\n",
    "                                if partition[nodes] == com]\n",
    "    node_size = 5\n",
    "    #node_size = [15 if 'Romance' in G_titles.nodes[n]['genres'] else 5 for n in list_nodes]\n",
    "    nx.draw_networkx_nodes(G_titles, pos, list_nodes, node_size = node_size, node_color = cmap[i])\n",
    "\n",
    "nx.draw_networkx_edges(G_titles, pos, alpha=0.5)\n",
    "plt.savefig(\"G_titles.pdf\", format = \"pdf\")\n",
    "plt.show()"
   ]
  },
  {
   "cell_type": "code",
   "execution_count": null,
   "metadata": {},
   "outputs": [],
   "source": []
  }
 ],
 "metadata": {
  "kernelspec": {
   "display_name": "Python 3",
   "language": "python",
   "name": "python3"
  },
  "language_info": {
   "codemirror_mode": {
    "name": "ipython",
    "version": 3
   },
   "file_extension": ".py",
   "mimetype": "text/x-python",
   "name": "python",
   "nbconvert_exporter": "python",
   "pygments_lexer": "ipython3",
   "version": "3.6.5"
  }
 },
 "nbformat": 4,
 "nbformat_minor": 2
}
